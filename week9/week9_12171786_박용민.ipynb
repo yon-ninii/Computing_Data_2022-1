{
 "cells": [
  {
   "cell_type": "markdown",
   "metadata": {
    "id": "g9d1s3ysr1Dv"
   },
   "source": [
    "# 보고서 작성하기 (학번 이름 )\n",
    " 본인이 창업할 커피 전문점 일상 데이터 처리하기\n",
    "\n",
    "\n",
    "*   형식: 워드,한글, 모두 가능, (그래프 이미지는 PrtSc 및 캡쳐해서 삽입)\n",
    "*   아래의 코드에 대한 결과보고서 만들기\n",
    "\n",
    "\n"
   ]
  },
  {
   "cell_type": "code",
   "execution_count": 1,
   "metadata": {
    "id": "rs76ox-dRPJR"
   },
   "outputs": [
    {
     "name": "stdout",
     "output_type": "stream",
     "text": [
      "[10, 20, 30]\n"
     ]
    }
   ],
   "source": [
    "#(실습) [10, 20, 30] 1차원 리스트 만들기 \n",
    "a = [10,20,30]\n",
    "print(a)"
   ]
  },
  {
   "cell_type": "code",
   "execution_count": 2,
   "metadata": {
    "id": "ngvTZG16Rd3L"
   },
   "outputs": [
    {
     "name": "stdout",
     "output_type": "stream",
     "text": [
      "[]\n"
     ]
    }
   ],
   "source": [
    "# (실습) 빈 리스트 만들기 \n",
    "b = []\n",
    "print(b)"
   ]
  },
  {
   "cell_type": "code",
   "execution_count": 3,
   "metadata": {
    "id": "9CRC_AiPRozT"
   },
   "outputs": [
    {
     "name": "stdout",
     "output_type": "stream",
     "text": [
      "[1, 2, 3, 4, 5, 6, 7, 8, 9]\n"
     ]
    }
   ],
   "source": [
    "# (실습) list(), range() 함수를 이용해 [1,2,3,4,5,6,7,8,9] 가 저장된 1차원 리스트 만들기 \n",
    "c = list(range(1,10))\n",
    "print(c)"
   ]
  },
  {
   "cell_type": "code",
   "execution_count": 4,
   "metadata": {
    "id": "OgPyUJXXSr9Z"
   },
   "outputs": [
    {
     "name": "stdout",
     "output_type": "stream",
     "text": [
      "[[10, 20, 30], [40, 50, 60], [90, 100, 110]]\n",
      "[40, 50, 60]\n",
      "50\n"
     ]
    }
   ],
   "source": [
    "# a 리스트 만들기 \n",
    "a = [[10, 20, 30],[40, 50, 60], [90, 100, 110]]\n",
    "\n",
    "# a 리스트 전체 출력하기 \n",
    "print(a)\n",
    "\n",
    "# a 리스트의 0번 인덱스 행 출력하기 \n",
    "print(a[1])\n",
    "\n",
    "# a 리스트의 2번 인덱스 행, 1번 인덱스 열에 있는 값 출력하기 \n",
    "print(a[1][1])"
   ]
  },
  {
   "cell_type": "code",
   "execution_count": 5,
   "metadata": {
    "id": "Y-h8jQUISv56"
   },
   "outputs": [
    {
     "data": {
      "text/plain": [
       "4"
      ]
     },
     "execution_count": 5,
     "metadata": {},
     "output_type": "execute_result"
    }
   ],
   "source": [
    "a = [4, 11, 53, 30]\n",
    "# (실습) a 리스트에 저장된 데이터의 갯수를 출력함.\n",
    "len(a)\n"
   ]
  },
  {
   "cell_type": "code",
   "execution_count": 6,
   "metadata": {
    "id": "642i-lT8ecYx"
   },
   "outputs": [
    {
     "name": "stdout",
     "output_type": "stream",
     "text": [
      "[4, 11, 53, 30, 9]\n"
     ]
    }
   ],
   "source": [
    "# (실습) a 리스트의 마지막에 9을 추가해 출력함. \n",
    "a.append(9)\n",
    "print(a)"
   ]
  },
  {
   "cell_type": "code",
   "execution_count": 7,
   "metadata": {
    "id": "-mkRyL-6edgn"
   },
   "outputs": [
    {
     "name": "stdout",
     "output_type": "stream",
     "text": [
      "[4, 11, 10, 53, 30, 9]\n"
     ]
    }
   ],
   "source": [
    "# (실습) a 리스트의 2번 인덱스에 10을 삽입하고 출력함.\n",
    "a.insert(2,10)\n",
    "print(a)"
   ]
  },
  {
   "cell_type": "code",
   "execution_count": 8,
   "metadata": {
    "id": "0lMjEJnNeeh0"
   },
   "outputs": [
    {
     "name": "stdout",
     "output_type": "stream",
     "text": [
      "[4, 11, 10, 53, 30]\n"
     ]
    }
   ],
   "source": [
    "# (실습) a 리스트에 저장된 9을 삭제하고 출력함.\n",
    "a.remove(9)\n",
    "print(a)"
   ]
  },
  {
   "cell_type": "code",
   "execution_count": 9,
   "metadata": {
    "id": "PQ3BGLAUefWR"
   },
   "outputs": [
    {
     "name": "stdout",
     "output_type": "stream",
     "text": [
      "[4, 10, 11, 30, 53]\n"
     ]
    }
   ],
   "source": [
    "# (실습) a 리스트를 오름차순으로 정렬하고 출력함. \n",
    "a.sort()\n",
    "print(a)\n"
   ]
  },
  {
   "cell_type": "code",
   "execution_count": 10,
   "metadata": {
    "colab": {
     "base_uri": "https://localhost:8080/"
    },
    "id": "PSbx1_HZegx9",
    "outputId": "2509e117-e125-45be-a697-382b06a94ef6"
   },
   "outputs": [
    {
     "name": "stdout",
     "output_type": "stream",
     "text": [
      "[53, 30, 11, 10, 4]\n"
     ]
    }
   ],
   "source": [
    "# (실습) a 리스트에 있는 값을 역순으로 저장해 출력함. \n",
    "a.reverse()\n",
    "print(a)"
   ]
  },
  {
   "cell_type": "markdown",
   "metadata": {
    "id": "s8TSPkvEXR2F"
   },
   "source": [
    "######요즘 OO의 주된 관심거리는 카페 창업에 있다. 커피 점문점 사이에서 경쟁력을 갖추려면어떻게 해야할지 걱정이 많았다.OO는 카페 창업을 하는 사람들을 위한 체크리스트가 생각났다.\n",
    "  - 체크리스트\n",
    "\n",
    "> 비슷한 업종의 유명한 맛집을 직접 방문 했는가?\n",
    "\n",
    "> 우리 가게만의 시그너처 메뉴를 연구했는가?\n",
    "\n",
    "> 카페를 열 장소에서 오가는 사람들의 유동 패턴과 특징을 충분히 파악 했는가?\n",
    "\n",
    "> 메뉴의 단가를 결정하기 위해 합리적인 원가 산출법을 적용하는가?\n",
    "\n"
   ]
  },
  {
   "cell_type": "code",
   "execution_count": 11,
   "metadata": {
    "id": "wlrFG2gwbdFs"
   },
   "outputs": [
    {
     "name": "stdout",
     "output_type": "stream",
     "text": [
      "A =  [232, 258, 232, 221, 270, 81, 47]\n"
     ]
    }
   ],
   "source": [
    "\n",
    "\n",
    "# 철수가 조사한 일주일간 유동인구 데이터(월~일)를 리스트에 저장하기 \n",
    "# 데이터 : 232, 258, 232, 221, 270, 81, 47\n",
    "\n",
    "# (실습) 리스트 만들기 \n",
    "a = [232, 258, 232, 221, 270, 81, 47]\n",
    "print(\"A = \", a)"
   ]
  },
  {
   "cell_type": "code",
   "execution_count": 12,
   "metadata": {
    "id": "jkpBb6ZRcQE0"
   },
   "outputs": [
    {
     "name": "stdout",
     "output_type": "stream",
     "text": [
      "7\n"
     ]
    }
   ],
   "source": [
    "# [Step 2] 유동 인구수 데이터의 총합과 평균 구하기\n",
    "# (실습) n : a 리스트 원소 갯수 구하기\n",
    "#A=[232,258,232,221,270,81,47]\n",
    "n =len(a)\n",
    "\n",
    "print(n)"
   ]
  },
  {
   "cell_type": "code",
   "execution_count": 13,
   "metadata": {
    "id": "DBqKqvMznjnD"
   },
   "outputs": [
    {
     "name": "stdout",
     "output_type": "stream",
     "text": [
      "Total sum : 1341\n"
     ]
    }
   ],
   "source": [
    "# my_sum : a 리스트 합 구하기\n",
    "\n",
    "# 합을 구하는 변수 선언하기(0으로 초기화)\n",
    "my_sum = 0\n",
    "\n",
    "# (실습) a 리스트 합 구하기 \n",
    "for i in range(0, n):\n",
    "  my_sum+=a[i]\n",
    "\n",
    "# 합 출력하기 \n",
    "print(\"Total sum :\", my_sum)"
   ]
  },
  {
   "cell_type": "code",
   "execution_count": 14,
   "metadata": {
    "id": "bxBWCqmU1R6D"
   },
   "outputs": [
    {
     "name": "stdout",
     "output_type": "stream",
     "text": [
      "Total average  191.57142857142858\n"
     ]
    }
   ],
   "source": [
    "# my_avg : a 리스트 평균 구하기\n",
    "\n",
    "# 평균을 구하는 변수 선언하기(0으로 초기화)\n",
    "my_avg = 0 \n",
    "\n",
    "# (실습) a 리스트 평균 구하기 \n",
    "my_avg = my_sum/n\n",
    "\n",
    "# 평균 출력하기 \n",
    "print(\"Total average \", my_avg)"
   ]
  },
  {
   "cell_type": "code",
   "execution_count": 15,
   "metadata": {
    "id": "GCB3EsQpeQfp"
   },
   "outputs": [
    {
     "data": {
      "image/png": "[encoded data removed]",
      "text/plain": [
       "<Figure size 432x288 with 1 Axes>"
      ]
     },
     "metadata": {
      "needs_background": "light"
     },
     "output_type": "display_data"
    }
   ],
   "source": [
    "#[Step 3] 주어진 수열 데이터를 꺾은선 그래프로 표현하기\n",
    "#matplotlib : 그래프 시각화 하기\n",
    "#(실습) matplotlib.pyplot 불러오기 \n",
    "\n",
    "import matplotlib.pyplot as plt\n",
    "\n",
    "# x 축 데이터 저장하기 \n",
    "x_data = ['MON', 'TUE', 'WED', 'THR', 'FRI', 'SAT', 'SUN']\n",
    "\n",
    "# 유동인구 제목 : Floating Population Data(1week)\n",
    "plt.title(\"Floating Population Data(1week)\", fontsize=18)\n",
    "\n",
    "# x축(요일), y축(유동인구수)\n",
    "plt.xlabel(\"Day of the week\", fontsize=12)\n",
    "plt.ylabel(\"Floating Population\", fontsize=12)\n",
    "\n",
    "# 산점도 그리기 (x축 : 요일, y축 ; 유동인구수)\n",
    "plt.scatter(x_data,a)\n",
    "\n",
    "# 라인 그래프 그리기  (x축 : 요일, y축 ; 유동인구수)\n",
    "\n",
    "plt.plot(x_data,a)\n",
    "# 그래프 그리기 \n",
    "# plt.plot(x_data, a, 'bo-')\n",
    "\n",
    "# 그래프 보여주기 \n",
    "plt.show()"
   ]
  },
  {
   "cell_type": "code",
   "execution_count": 16,
   "metadata": {
    "colab": {
     "base_uri": "https://localhost:8080/"
    },
    "id": "zSfGQ0uP-3YX",
    "outputId": "0336ae31-6e6d-4384-b92f-de94b928a1cc"
   },
   "outputs": [
    {
     "name": "stdout",
     "output_type": "stream",
     "text": [
      "weekday Data :  [232, 258, 232, 221, 270]\n",
      "weekday Sum : 1213\n",
      "weekday Average :  242.6\n"
     ]
    }
   ],
   "source": [
    "#[Step 4] 주중 유동 인구수의 합과 평균을 구해 그래프와 함께 출력하기\n",
    "'''\n",
    "weekday_size : 주중(5)\n",
    "weekday_sum : 주중 합 구하는 변수 \n",
    "weekday_avg : 주중 평균 구하는 변수 \n",
    "'''\n",
    "weekday_size = 5\n",
    "weekday_sum = 0\n",
    "weekday_avg = 0\n",
    "\n",
    "# (실습) 주중 합 구하기(weekday_sum)\n",
    "for i in range(0, weekday_size):\n",
    " weekday_sum+=a[i] \n",
    "\n",
    "# (실습) 주중 평균 구하기(weekday_avg)\n",
    "weekday_avg = weekday_sum/weekday_size\n",
    "\n",
    "# 주중 데이터, 주중 합, 주중 평균 구하기 \n",
    "print(\"weekday Data : \",a[0:5])\n",
    "print(\"weekday Sum :\", weekday_sum)\n",
    "print(\"weekday Average : \", weekday_avg)"
   ]
  },
  {
   "cell_type": "code",
   "execution_count": 17,
   "metadata": {
    "id": "X8upy0kIS0_i"
   },
   "outputs": [
    {
     "data": {
      "image/png": "[encoded data removed]",
      "text/plain": [
       "<Figure size 432x288 with 1 Axes>"
      ]
     },
     "metadata": {
      "needs_background": "light"
     },
     "output_type": "display_data"
    }
   ],
   "source": [
    "# 그래프 그리기 \n",
    "# (실습) matplotlib.pyplot 불러오기 \n",
    "\n",
    "import matplotlib.pyplot as plt\n",
    "\n",
    "# 유동인구 제목 : Floating Population Data(1week)\n",
    "plt.title(\"Floating Population Data(1week)\", fontsize=16)\n",
    "\n",
    "# x축(요일), y축(유동인구수)\n",
    "plt.xlabel(\"Day of the week\", fontsize=12)\n",
    "plt.ylabel(\"Floating Population\", fontsize=12)\n",
    "\n",
    "# (실습) 일주일 라인 그래프 그리기 \n",
    "plt.plot(x_data,a)\n",
    "\n",
    "# (실습) 주중(월~금) 산점도 그래프 그리기 ('red', 50)\n",
    "plt.scatter(x_data[0:weekday_size],a[0:weekday_size],c='red',s=50)\n",
    "\n",
    "# 그래프 보여주기 \n",
    "plt.show()"
   ]
  }
 ],
 "metadata": {
  "colab": {
   "collapsed_sections": [],
   "name": "학번이름.ipynb의 사본",
   "provenance": []
  },
  "kernelspec": {
   "display_name": "Python 3 (ipykernel)",
   "language": "python",
   "name": "python3"
  },
  "language_info": {
   "codemirror_mode": {
    "name": "ipython",
    "version": 3
   },
   "file_extension": ".py",
   "mimetype": "text/x-python",
   "name": "python",
   "nbconvert_exporter": "python",
   "pygments_lexer": "ipython3",
   "version": "3.9.7"
  }
 },
 "nbformat": 4,
 "nbformat_minor": 1
}
