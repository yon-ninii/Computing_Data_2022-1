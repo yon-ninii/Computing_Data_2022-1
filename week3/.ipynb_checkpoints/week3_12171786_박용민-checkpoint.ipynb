{
 "cells": [
  {
   "cell_type": "markdown",
   "id": "f60102ed",
   "metadata": {},
   "source": [
    "# 비밀번호"
   ]
  },
  {
   "cell_type": "code",
   "execution_count": 2,
   "id": "47c5f5b7",
   "metadata": {},
   "outputs": [
    {
     "name": "stdout",
     "output_type": "stream",
     "text": [
      "이름을 입력 해주세요\n",
      "박용민\n",
      "비밀번호를 입력 해주세요\n",
      "123\n",
      "잘못 된 비밀번호입니다. 다시 시도해주세요.\n",
      "잔여 시도 횟수는 4 입니다.\n",
      "이름을 입력 해주세요\n",
      "123\n",
      "비밀번호를 입력 해주세요\n",
      "123\n",
      "잘못 된 비밀번호입니다. 다시 시도해주세요.\n",
      "잔여 시도 횟수는 3 입니다.\n",
      "이름을 입력 해주세요\n",
      "123\n",
      "비밀번호를 입력 해주세요\n",
      "132\n",
      "잘못 된 비밀번호입니다. 다시 시도해주세요.\n",
      "잔여 시도 횟수는 2 입니다.\n",
      "이름을 입력 해주세요\n",
      "312\n",
      "비밀번호를 입력 해주세요\n",
      "231\n",
      "잘못 된 비밀번호입니다. 다시 시도해주세요.\n",
      "잔여 시도 횟수는 1 입니다.\n",
      "이름을 입력 해주세요\n",
      "123\n",
      "비밀번호를 입력 해주세요\n",
      "312\n",
      "잘못 된 비밀번호입니다. 다시 시도해주세요.\n",
      "비정상적인 접근입니다.\n"
     ]
    }
   ],
   "source": [
    "password = '1q2w3e4r'\n",
    "pass_flag = False\n",
    "\n",
    "for i in range(5) :\n",
    "    #비밀번호 입력\n",
    "    user_id = input(\"이름을 입력 해주세요\\n\")\n",
    "    user_input = input(\"비밀번호를 입력 해주세요\\n\")\n",
    "    count = 5 - (i + 1)\n",
    "    \n",
    "    #검증\n",
    "    if user_input == password :\n",
    "        print(\"%s 님 환영합니다.\" %user_id)\n",
    "        pass_flag = True\n",
    "        break\n",
    "        \n",
    "    else :\n",
    "        print(\"잘못 된 비밀번호입니다. 다시 시도해주세요.\")\n",
    "\n",
    "        #입력 가능 횟수\n",
    "        if count > 0 :\n",
    "            print(\"잔여 시도 횟수는 %d 입니다.\" %count)\n",
    "            \n",
    "if pass_flag == False :\n",
    "    print(\"비정상적인 접근입니다.\")"
   ]
  },
  {
   "cell_type": "markdown",
   "id": "7194a53f",
   "metadata": {},
   "source": [
    "## 약수 구하기"
   ]
  },
  {
   "cell_type": "code",
   "execution_count": 3,
   "id": "d9a91157",
   "metadata": {},
   "outputs": [
    {
     "name": "stdout",
     "output_type": "stream",
     "text": [
      "정수를 입력하세요 : 45\n",
      "1\n",
      "3\n",
      "5\n",
      "9\n",
      "15\n",
      "45\n",
      "45의 약수의 개수 :  6\n",
      "약수 :  [1, 3, 5, 9, 15, 45]\n"
     ]
    }
   ],
   "source": [
    "num = int(input(\"정수를 입력하세요 : \"))\n",
    "\n",
    "a = 1\n",
    "divisor = []\n",
    "\n",
    "while a <= num :\n",
    "    if num % a == 0 :\n",
    "        print(a)\n",
    "        divisor.append(a)\n",
    "        \n",
    "    a += 1\n",
    "    \n",
    "print(\"%d의 약수의 개수 : \" %num, len(divisor))\n",
    "print(\"약수 : \", divisor)"
   ]
  }
 ],
 "metadata": {
  "kernelspec": {
   "display_name": "Python 3 (ipykernel)",
   "language": "python",
   "name": "python3"
  },
  "language_info": {
   "codemirror_mode": {
    "name": "ipython",
    "version": 3
   },
   "file_extension": ".py",
   "mimetype": "text/x-python",
   "name": "python",
   "nbconvert_exporter": "python",
   "pygments_lexer": "ipython3",
   "version": "3.9.7"
  }
 },
 "nbformat": 4,
 "nbformat_minor": 5
}
