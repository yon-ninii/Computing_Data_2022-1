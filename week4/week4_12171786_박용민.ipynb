{
 "cells": [
  {
   "cell_type": "code",
   "execution_count": 3,
   "id": "611fd72b",
   "metadata": {},
   "outputs": [
    {
     "name": "stdout",
     "output_type": "stream",
     "text": [
      "주문하고 싶은 음식을 입력하세요 짜장면\n",
      "주문내역 :  짜장면\n",
      "주문하고 싶은 음식을 입력하세요 탕수육\n",
      "주문내역 :  탕수육\n",
      "주문하고 싶은 음식을 입력하세요 짬뽕\n",
      "주문내역 :  짬뽕\n",
      "짜장면, 탕수육, 짬뽕 주문 되었습니다.\n"
     ]
    }
   ],
   "source": [
    "order = []\n",
    "for i in range(3):\n",
    "    order.append(input('주문하고 싶은 음식을 입력하세요 '))\n",
    "    print('주문내역 : ', order[i])\n",
    "print(\", \".join(order), '주문 되었습니다.')"
   ]
  },
  {
   "cell_type": "code",
   "execution_count": 4,
   "id": "a201ca6d",
   "metadata": {},
   "outputs": [
    {
     "name": "stdout",
     "output_type": "stream",
     "text": [
      "합계 :  425\n",
      "평균 :  85.0\n"
     ]
    }
   ],
   "source": [
    "math = open('score.txt')\n",
    "lines = math.readlines()\n",
    "\n",
    "sum = 0\n",
    "\n",
    "for line in lines:\n",
    "    line = line.rstrip()\n",
    "    score = int(line)\n",
    "    sum += score\n",
    "    \n",
    "avg = sum/len(lines)\n",
    "\n",
    "print('합계 : ', sum)\n",
    "print('평균 : ', avg)\n",
    "\n",
    "math.close()"
   ]
  }
 ],
 "metadata": {
  "kernelspec": {
   "display_name": "Python 3 (ipykernel)",
   "language": "python",
   "name": "python3"
  },
  "language_info": {
   "codemirror_mode": {
    "name": "ipython",
    "version": 3
   },
   "file_extension": ".py",
   "mimetype": "text/x-python",
   "name": "python",
   "nbconvert_exporter": "python",
   "pygments_lexer": "ipython3",
   "version": "3.9.7"
  }
 },
 "nbformat": 4,
 "nbformat_minor": 5
}
