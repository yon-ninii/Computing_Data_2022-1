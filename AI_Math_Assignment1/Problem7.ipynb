{
 "cells": [
  {
   "cell_type": "markdown",
   "id": "66d0b1ea",
   "metadata": {},
   "source": [
    "# (a) 양의 정수 n을 인자로 받아, 1000 이하의 모든 n의 배수들을 원소로 갖는 list를 return 하는 함수를 작성하시오. (만약 n이 1000보다 크면, 원소가 없는 list를 return 하시오.)"
   ]
  },
  {
   "cell_type": "code",
   "execution_count": 6,
   "id": "bf4fb77d",
   "metadata": {},
   "outputs": [
    {
     "name": "stdout",
     "output_type": "stream",
     "text": [
      "양의 정수를 입력하시오 10\n",
      "[10, 20, 30, 40, 50, 60, 70, 80, 90, 100, 110, 120, 130, 140, 150, 160, 170, 180, 190, 200, 210, 220, 230, 240, 250, 260, 270, 280, 290, 300, 310, 320, 330, 340, 350, 360, 370, 380, 390, 400, 410, 420, 430, 440, 450, 460, 470, 480, 490, 500, 510, 520, 530, 540, 550, 560, 570, 580, 590, 600, 610, 620, 630, 640, 650, 660, 670, 680, 690, 700, 710, 720, 730, 740, 750, 760, 770, 780, 790, 800, 810, 820, 830, 840, 850, 860, 870, 880, 890, 900, 910, 920, 930, 940, 950, 960, 970, 980, 990, 1000]\n"
     ]
    }
   ],
   "source": [
    "def mult_num() :\n",
    "    num = int(input('양의 정수를 입력하시오 '))\n",
    "    result = []\n",
    "    if num > 1000 :\n",
    "        return result\n",
    "    else :\n",
    "        k = 1000 // num\n",
    "        for i in range(1, k + 1) :\n",
    "            result.append(num * i)\n",
    "        return result\n",
    "\n",
    "print(mult_num())"
   ]
  },
  {
   "cell_type": "markdown",
   "id": "2fc196c8",
   "metadata": {},
   "source": [
    "# (b) 위 함수를 이용하여, 두 양의 정수 a, b를 인자로 받아, 1000 이하의 양의 정수 중 a의 배수도 아니고 b의 배수도 아닌 양의 정수들의 총합을 return 하는 함수를 작성하시오."
   ]
  },
  {
   "cell_type": "code",
   "execution_count": 15,
   "id": "e0b34124",
   "metadata": {},
   "outputs": [
    {
     "name": "stdout",
     "output_type": "stream",
     "text": [
      "양의 정수를 입력하시오 2\n",
      "양의 정수를 입력하시오 3\n",
      "[1, 5, 7, 11, 13, 17, 19, 23, 25, 29, 31, 35, 37, 41, 43, 47, 49, 53, 55, 59, 61, 65, 67, 71, 73, 77, 79, 83, 85, 89, 91, 95, 97, 101, 103, 107, 109, 113, 115, 119, 121, 125, 127, 131, 133, 137, 139, 143, 145, 149, 151, 155, 157, 161, 163, 167, 169, 173, 175, 179, 181, 185, 187, 191, 193, 197, 199, 203, 205, 209, 211, 215, 217, 221, 223, 227, 229, 233, 235, 239, 241, 245, 247, 251, 253, 257, 259, 263, 265, 269, 271, 275, 277, 281, 283, 287, 289, 293, 295, 299, 301, 305, 307, 311, 313, 317, 319, 323, 325, 329, 331, 335, 337, 341, 343, 347, 349, 353, 355, 359, 361, 365, 367, 371, 373, 377, 379, 383, 385, 389, 391, 395, 397, 401, 403, 407, 409, 413, 415, 419, 421, 425, 427, 431, 433, 437, 439, 443, 445, 449, 451, 455, 457, 461, 463, 467, 469, 473, 475, 479, 481, 485, 487, 491, 493, 497, 499, 503, 505, 509, 511, 515, 517, 521, 523, 527, 529, 533, 535, 539, 541, 545, 547, 551, 553, 557, 559, 563, 565, 569, 571, 575, 577, 581, 583, 587, 589, 593, 595, 599, 601, 605, 607, 611, 613, 617, 619, 623, 625, 629, 631, 635, 637, 641, 643, 647, 649, 653, 655, 659, 661, 665, 667, 671, 673, 677, 679, 683, 685, 689, 691, 695, 697, 701, 703, 707, 709, 713, 715, 719, 721, 725, 727, 731, 733, 737, 739, 743, 745, 749, 751, 755, 757, 761, 763, 767, 769, 773, 775, 779, 781, 785, 787, 791, 793, 797, 799, 803, 805, 809, 811, 815, 817, 821, 823, 827, 829, 833, 835, 839, 841, 845, 847, 851, 853, 857, 859, 863, 865, 869, 871, 875, 877, 881, 883, 887, 889, 893, 895, 899, 901, 905, 907, 911, 913, 917, 919, 923, 925, 929, 931, 935, 937, 941, 943, 947, 949, 953, 955, 959, 961, 965, 967, 971, 973, 977, 979, 983, 985, 989, 991, 995, 997]\n"
     ]
    }
   ],
   "source": [
    "def non_mult() :\n",
    "    result = list(range(1, 1001))\n",
    "    a = mult_num()\n",
    "    b = mult_num()\n",
    "    c = list(set(a + b))\n",
    "    for i in range(len(c)) :\n",
    "        result.remove(c[i])\n",
    "    return result\n",
    "\n",
    "print(non_mult())"
   ]
  },
  {
   "cell_type": "markdown",
   "id": "17974396",
   "metadata": {},
   "source": [
    "# (c) 양의 정수 a를 입력으로 받아, 1보다 큰 모든 a의 양의 약수들을 원소로 갖는 list를 return하되, 특히 a가 소수인 경우는 \"a is a prime number.\"도 출력하도록 하는 함수를 작성하시오."
   ]
  },
  {
   "cell_type": "code",
   "execution_count": 16,
   "id": "db9ca2cc",
   "metadata": {},
   "outputs": [
    {
     "name": "stdout",
     "output_type": "stream",
     "text": [
      "양의 정수를 입력하시오 50\n",
      "[2, 5, 10, 25, 50]\n"
     ]
    }
   ],
   "source": [
    "def aliquot() :\n",
    "    num = int(input('양의 정수를 입력하시오 '))\n",
    "    result = []\n",
    "    for i in range(2, num + 1) :\n",
    "        if num % i == 0 :\n",
    "            result.append(i)\n",
    "    if len(result) == 1 :\n",
    "        print(num, 'is a prime number')\n",
    "    return result\n",
    "\n",
    "print(aliquot())"
   ]
  },
  {
   "cell_type": "markdown",
   "id": "c77fc10b",
   "metadata": {},
   "source": [
    "# (d) 1보다 큰 양의 정수 a, b가 주어졌을 때, 1000 이하의 양의 정수 중 a, b와 모두 서로소인 양의 정수들의 총합을 return 하는 함수를 작성하시오."
   ]
  },
  {
   "cell_type": "code",
   "execution_count": 21,
   "id": "a913f7e5",
   "metadata": {},
   "outputs": [
    {
     "name": "stdout",
     "output_type": "stream",
     "text": [
      "양의 정수를 입력하시오 6\n",
      "양의 정수를 입력하시오 35\n",
      "113712\n"
     ]
    }
   ],
   "source": [
    "def find_gcd(a, b) :\n",
    "    gcd = 0\n",
    "    for i in range(1, a + 1) :\n",
    "        if (a % i == 0) & (b % i == 0) :\n",
    "            gcd = i\n",
    "    return gcd\n",
    "\n",
    "def mutual_prime() :\n",
    "    is_mutual_prime = []\n",
    "    a = int(input('양의 정수를 입력하시오 '))\n",
    "    b = int(input('양의 정수를 입력하시오 '))\n",
    "    for i in range(1, 1001):\n",
    "        if (find_gcd(a, i) == 1) & (find_gcd(b, i) == 1) :\n",
    "            is_mutual_prime.append(i)\n",
    "    return sum(is_mutual_prime)\n",
    "\n",
    "print(mutual_prime())"
   ]
  }
 ],
 "metadata": {
  "kernelspec": {
   "display_name": "Python 3 (ipykernel)",
   "language": "python",
   "name": "python3"
  },
  "language_info": {
   "codemirror_mode": {
    "name": "ipython",
    "version": 3
   },
   "file_extension": ".py",
   "mimetype": "text/x-python",
   "name": "python",
   "nbconvert_exporter": "python",
   "pygments_lexer": "ipython3",
   "version": "3.9.7"
  }
 },
 "nbformat": 4,
 "nbformat_minor": 5
}
